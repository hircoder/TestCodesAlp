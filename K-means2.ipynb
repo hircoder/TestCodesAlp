{
 "cells": [
  {
   "attachments": {},
   "cell_type": "markdown",
   "id": "d4c23b70",
   "metadata": {},
   "source": [
    "  + This code is a Python implementation of the K-means clustering algorithm for an interview assignment.\n",
    " I used the following resources to learn about K-means clustering algorithm:\n",
    " https://www.geeksforgeeks.org/k-means-clustering-introduction/\n",
    " https://en.wikipedia.org/wiki/K-means_clustering\n",
    " https://www.youtube.com/watch?v=4b5d3muPQmA\n",
    "\n",
    " + The objective of this code is to partition a set of data points into k clusters based on their similarity, where k is a given number.\n",
    " This is done to ensure that data points within each cluster are as similar as possible and as dissimilar as possible from data points in other clusters.\n",
    " To test the code, load datasets and perform K-means clustering on the data, specifying the number of clusters and maximum iterations.\n",
    " The code assumes that the data is two-dimensional and the number of clusters is less than or equal to the number of data points.\n",
    " The code visualizes the clusters and centroids in a scatter plot and saves the plot as an image file.\n",
    " It also assumes that the data is stored in a CSV file with no header row and two columns: one for the X values and one for the Y values.\n",
    " The data is loaded from the CSV file using Pandas and converted to a NumPy array.\n",
    "\n",
    " + The implementation assumes a simple K-means algorithm, meaning that initial centroids are randomly selected from the data points.\n",
    " It also assumes the Euclidean distance is used to calculate the distance between data points and centroids.\n",
    " As stated in the assignment, the expected outputs are the final set of clusters and their corresponding centroids.\n",
    " Per the requirements, the K-means algorithm should have an interface similar to the one provided by scikit-learn.\n",
    " Based on the scikit-learn documentation, the K-means algorithm has defined methods for fitting the model and predicting cluster labels.\n",
    " Reference: https://scikit-learn.org/stable/modules/generated/sklearn.cluster.KMeans.html\n",
    " I have implemented the fit and predict methods, similar to the KMeans class in scikit-learn.\n",
    " The fit method takes the data and the number of clusters as input and returns the model object.\n",
    " The predict method takes the data as input and returns the predicted cluster labels for the data points.\n",
    "\n",
    " + I have tried to follow clean code practices as much as possible.\n",
    " I also added comments where they helped me understand the code better.\n",
    " To run this code:\n",
    "   1. Open the terminal and navigate to the directory containing this file.\n",
    "   2. Run the following command: python K-means2.py <dataset_file> <n_clusters> <max_iterations>"
   ]
  },
  {
   "cell_type": "code",
   "execution_count": null,
   "id": "a5f3971f",
   "metadata": {
    "lines_to_next_cell": 0
   },
   "outputs": [],
   "source": [
    "from typing import List, Tuple\n",
    "# Used for type hints.\n",
    "# You can install the typing module using the following command: pip install typing"
   ]
  },
  {
   "cell_type": "code",
   "execution_count": null,
   "id": "3a2ac995",
   "metadata": {
    "lines_to_next_cell": 0
   },
   "outputs": [],
   "source": [
    "import random\n",
    "# Used for randomly selecting initial centroids."
   ]
  },
  {
   "cell_type": "code",
   "execution_count": null,
   "id": "7a3ee0e3",
   "metadata": {
    "lines_to_next_cell": 0
   },
   "outputs": [],
   "source": [
    "import numpy as np\n",
    "# Used for handling arrays and calculating distances."
   ]
  },
  {
   "cell_type": "code",
   "execution_count": null,
   "id": "1d895118",
   "metadata": {
    "lines_to_next_cell": 0
   },
   "outputs": [],
   "source": [
    "import pandas as pd\n",
    "# Used for loading the data from the CSV file."
   ]
  },
  {
   "cell_type": "code",
   "execution_count": null,
   "id": "6f03fd45",
   "metadata": {
    "lines_to_next_cell": 0
   },
   "outputs": [],
   "source": [
    "import matplotlib.pyplot as plt\n",
    "# Used for visualizing the clusters and centroids."
   ]
  },
  {
   "cell_type": "code",
   "execution_count": null,
   "id": "3e0d716d",
   "metadata": {
    "lines_to_next_cell": 0
   },
   "outputs": [],
   "source": [
    "import argparse\n",
    "# Used for parsing command-line arguments."
   ]
  },
  {
   "cell_type": "code",
   "execution_count": null,
   "id": "a1643e30",
   "metadata": {},
   "outputs": [],
   "source": [
    "import os.path\n",
    "import sys\n",
    "# Used for handling file path validation and exiting the script when needed."
   ]
  },
  {
   "cell_type": "code",
   "execution_count": null,
   "id": "0e08f2a0",
   "metadata": {},
   "outputs": [],
   "source": [
    "def generate_random_colors(num_colors: int) -> List[str]:\n",
    "    \"\"\"\n",
    "    Generate a list of random RGB colors.\n",
    "\n",
    "    Parameters:\n",
    "    num_colors (int): The number of colors to generate.\n",
    "\n",
    "    Returns:\n",
    "    list[str]: The list of generated RGB colors.\n",
    "    \"\"\"\n",
    "    random_colors = set()\n",
    "\n",
    "    while len(random_colors) < num_colors:\n",
    "        color = \"{:06x}\".format(random.randint(0, 0xFFFFFF))\n",
    "        random_colors.add(color)\n",
    "\n",
    "    return list(random_colors)"
   ]
  },
  {
   "cell_type": "code",
   "execution_count": null,
   "id": "e321a23f",
   "metadata": {},
   "outputs": [],
   "source": [
    "def visualize_clusters(\n",
    "    data: np.ndarray,\n",
    "    cluster_labels: np.ndarray,\n",
    "    centroids: np.ndarray,\n",
    "    num_clusters: int,\n",
    "    centroid_marker: str = \"+\",\n",
    ") -> None:\n",
    "    \"\"\"\n",
    "    Visualize the clusters and centroids in a scatter plot.\n",
    "\n",
    "    Parameters:\n",
    "    data (np.ndarray): The dataset used for clustering.\n",
    "    cluster_labels (np.ndarray): The predicted cluster labels for the data points.\n",
    "    centroids (np.ndarray): The centroids of the clusters.\n",
    "    num_clusters (int): The number of clusters.\n",
    "    centroid_marker (str): The marker style for the centroids.\n",
    "    \"\"\"\n",
    "\n",
    "    # Generate a list of colors for each cluster\n",
    "    colors = generate_random_colors(num_clusters)\n",
    "\n",
    "    # Iterate over each cluster and plot its data points with the corresponding color\n",
    "    for i in range(num_clusters):\n",
    "        plt.scatter(\n",
    "            data[\n",
    "                cluster_labels == i, 0\n",
    "            ],   X values of the data points in the current cluster\n",
    "            data[\n",
    "                cluster_labels == i, 1\n",
    "            ],   Y values of the data points in the current cluster\n",
    "            s=50,   size of the data points\n",
    "            c=colors[i],   color of the data points in the current cluster\n",
    "            label=f\"Cluster {i+1}\",   label for the current cluster\n",
    "        )\n",
    "\n",
    "    # Plot the centroids as stars\n",
    "    plt.scatter(\n",
    "        centroids[:, 0],  # X values of the centroids\n",
    "        centroids[:, 1],  # Y values of the centroids\n",
    "        marker=\"+\",  # marker style for the centroids\n",
    "        s=100,  # size of the centroids\n",
    "        c=\"#000000\",  # color of the centroids\n",
    "        label=\"Centroids\",  # label for the centroids\n",
    "    )\n",
    "\n",
    "    # Add axis labels and a legend\n",
    "    plt.xlabel(\"X\")\n",
    "    plt.ylabel(\"Y\")\n",
    "    plt.legend()\n",
    "\n",
    "    # Save the plot as an image file\n",
    "    plt.savefig(f\"Clustered_S{len(data)}_C{num_clusters}.png\")\n",
    "\n",
    "    # Show the plot\n",
    "    plt.show()"
   ]
  },
  {
   "cell_type": "code",
   "execution_count": null,
   "id": "bb69f05d",
   "metadata": {
    "lines_to_next_cell": 0
   },
   "outputs": [],
   "source": [
    "def load_data(file_name: str) -> np.ndarray:\n",
    "    \"\"\"\n",
    "    Load the data from the CSV file using Pandas.\n",
    "\n",
    "    Parameters:\n",
    "    file_name (str): The name of the CSV file containing the data.\n",
    "\n",
    "    Returns:\n",
    "    np.ndarray: The loaded data as a NumPy array.\n",
    "    \"\"\"\n",
    "    data = pd.read_csv(file_name, header=None)\n",
    "    return data.values"
   ]
  },
  {
   "attachments": {},
   "cell_type": "markdown",
   "id": "77d38e64",
   "metadata": {},
   "source": [
    "+ **Implementation** of K-means clustring algorithm\n",
    "K-means algorithm is an unsupervised learning technique used for clustering data.\n",
    "The process of k-means clustering involves the following steps:\n",
    "I. Initialization: Choose the number of clusters, K, and randomly initialize K centroids.\n",
    "II. Assignment: Assign each data point to the nearest centroid based on the Euclidean distance between the data point and the centroid.\n",
    "III. Update: Recalculate the centroids of each cluster based on the mean of the data points assigned to it.\n",
    "IV. Repeat: Repeat steps 2 and 3 until the centroids no longer move significantly or a maximum number of iterations is reached.\n",
    "V. Output: The output of the algorithm is the final set of K clusters and their corresponding centroids."
   ]
  },
  {
   "cell_type": "code",
   "execution_count": null,
   "id": "333a9218",
   "metadata": {
    "lines_to_next_cell": 0
   },
   "outputs": [],
   "source": [
    "class Kmeans:\n",
    "    def __init__(self, n_clusters=5, max_iterations=300):\n",
    "        \"\"\"Initialize the number of clusters and maximum iterations.\"\"\"\n",
    "        self.n_clusters = n_clusters\n",
    "        self.max_iterations = max_iterations\n",
    "\n",
    "    def fit(self, X):\n",
    "        \"\"\"Fit the model to the given data.\"\"\"\n",
    "        self.centroids = self._initialize_centroids(X)\n",
    "\n",
    "        for _ in range(self.max_iterations):\n",
    "            clusters = self._create_clusters(X, self.centroids)\n",
    "            prev_centroids = self.centroids\n",
    "            self.centroids = self._calculate_centroids(clusters, X)\n",
    "\n",
    "            if self._is_converged(prev_centroids, self.centroids):\n",
    "                break\n",
    "\n",
    "    def predict(self, X):\n",
    "        \"\"\"Predict the cluster assignments for the given data.\"\"\"\n",
    "        clusters = self._create_clusters(X, self.centroids)\n",
    "        y_pred = np.zeros(X.shape[0], dtype=int)\n",
    "\n",
    "        for i, cluster in enumerate(clusters):\n",
    "            y_pred[cluster] = i\n",
    "\n",
    "        return y_pred, self.centroids\n",
    "\n",
    "    def _initialize_centroids(self, X):\n",
    "        \"\"\"Randomly select n_clusters data points from the dataset as initial centroids.\"\"\"\n",
    "        random_indices = random.sample(range(X.shape[0]), self.n_clusters)\n",
    "        return X[random_indices]\n",
    "\n",
    "    def _create_clusters(self, X, centroids):\n",
    "        \"\"\"Assign each data point to the closest centroid.\"\"\"\n",
    "        clusters = [[] for _ in range(self.n_clusters)]\n",
    "\n",
    "        for i, x in enumerate(X):\n",
    "            distances = [np.linalg.norm(x - c) for c in centroids]\n",
    "            cluster_index = np.argmin(distances)\n",
    "            clusters[cluster_index].append(i)\n",
    "\n",
    "        return clusters\n",
    "\n",
    "    def _calculate_centroids(self, clusters, X):\n",
    "        \"\"\"Calculate the new centroids as the mean of the data points in each cluster.\"\"\"\n",
    "        centroids = np.zeros((self.n_clusters, X.shape[1]))\n",
    "\n",
    "        for i, cluster in enumerate(clusters):\n",
    "            centroid = np.mean(X[cluster], axis=0)\n",
    "            centroids[i] = centroid\n",
    "\n",
    "        return centroids\n",
    "\n",
    "    def _is_converged(self, prev_centroids, centroids):\n",
    "        \"\"\"Check if the previous centroids are equal to the current centroids.\"\"\"\n",
    "        return np.array_equal(prev_centroids, centroids)"
   ]
  },
  {
   "attachments": {},
   "cell_type": "markdown",
   "id": "6bb9bca0",
   "metadata": {},
   "source": [
    "+ **Test**\n",
    "Function to load and process the selected dataset with the K-means algorithm"
   ]
  },
  {
   "cell_type": "code",
   "execution_count": null,
   "id": "056a7d05",
   "metadata": {
    "lines_to_next_cell": 0
   },
   "outputs": [],
   "source": [
    "def load_and_process_kmeans(data_file, n_clusters, max_iterations):\n",
    "    \"\"\"\n",
    "    Loads the selected dataset and processes it with the K-means algorithm.\n",
    "    Initializes the K-means object, fits the model, predicts cluster assignments and centroids, and visualizes the clusters and centroids.\n",
    "\n",
    "    Parameters:\n",
    "    data_file (str): The name of the CSV file containing the data.\n",
    "    n_clusters (int): The number of clusters to be created.\n",
    "    max_iterations (int): The maximum number of iterations to be performed.\n",
    "\n",
    "    Returns:\n",
    "    None\n",
    "    \"\"\"\n",
    "    try:\n",
    "        # Load the selected dataset\n",
    "        data = load_data(data_file)\n",
    "    except FileNotFoundError:\n",
    "        # Handle the case when the specified dataset file is not found\n",
    "        print(f\"Error: File '{data_file}' not found.\")\n",
    "        sys.exit(1)\n",
    "\n",
    "    # Process the selected dataset with the K-means algorithm\n",
    "    # Initialize the K-means object with the number of clusters and maximum iterations\n",
    "    kmeans = Kmeans(n_clusters, max_iterations)\n",
    "\n",
    "    # Fit the Kmeans model to the data\n",
    "    kmeans.fit(data)\n",
    "\n",
    "    # Predict cluster assignments and centroids\n",
    "    cluster_pred, centroids = kmeans.predict(data)\n",
    "\n",
    "    # Visualize the clusters and centroids\n",
    "    visualize_clusters(data, cluster_pred, kmeans.centroids, n_clusters)"
   ]
  },
  {
   "attachments": {},
   "cell_type": "markdown",
   "id": "c3339f36",
   "metadata": {},
   "source": [
    "+ Main function to parse command-line arguments and run the K-means clustering\n",
    "This functions relies on the following external libraries:\n",
    "argparse for parsing command-line arguments.\n",
    "os and sys for handling file path validation and exiting the script when needed."
   ]
  },
  {
   "cell_type": "code",
   "execution_count": null,
   "id": "29497d88",
   "metadata": {},
   "outputs": [],
   "source": [
    "def main():\n",
    "    \"\"\"\n",
    "    Parses command-line arguments and runs the K-means clustering.\n",
    "\n",
    "    Parameters:\n",
    "    None\n",
    "\n",
    "    Returns:\n",
    "    None\n",
    "    \"\"\"\n",
    "    # Set up command-line argument parsing to accept user input for the dataset, number of clusters, and maximum iterations.\n",
    "\n",
    "    parser = argparse.ArgumentParser(description=\"K-means Clustering Example\")\n",
    "    parser.add_argument(\n",
    "        \"--dataset\",\n",
    "        type=str,\n",
    "        default=\"data_C17N_5000.csv\",\n",
    "        help=\"The name of the dataset file to be used (default: data_C17N_5000.csv).\",\n",
    "    )\n",
    "    parser.add_argument(\n",
    "        \"--num_clusters\",\n",
    "        type=int,\n",
    "        default=17,\n",
    "        help=\"The number of clusters to be generated (default: 17).\",\n",
    "    )\n",
    "    parser.add_argument(\n",
    "        \"--max_iterations\",\n",
    "        type=int,\n",
    "        default=300,\n",
    "        help=\"The maximum number of iterations for the K-means algorithm (default: 300).\",\n",
    "    )\n",
    "\n",
    "    args = parser.parse_args()\n",
    "\n",
    "    # Check if the provided dataset is valid\n",
    "    if not os.path.exists(args.dataset):\n",
    "        print(f\"Error: Invalid dataset name. Please write the path to a valid dataset.\")\n",
    "        sys.exit(1)\n",
    "\n",
    "    n_clusters = args.num_clusters\n",
    "    data_file = args.dataset\n",
    "\n",
    "    # Inform the user about the selected dataset and settings\n",
    "    print(\n",
    "        f\"Processing dataset: {data_file} with {n_clusters} clusters and {args.max_iterations} max iterations\"\n",
    "    )\n",
    "\n",
    "    # Load and process the selected dataset with the K-means algorithm\n",
    "    load_and_process_kmeans(data_file, n_clusters, args.max_iterations)"
   ]
  },
  {
   "cell_type": "code",
   "execution_count": null,
   "id": "e8c3f6d3",
   "metadata": {},
   "outputs": [],
   "source": [
    "# Check if the script is being run as the main module and call the main function\n",
    "if __name__ == \"__main__\":\n",
    "    main()"
   ]
  }
 ],
 "metadata": {
  "jupytext": {
   "cell_metadata_filter": "-all",
   "main_language": "python",
   "notebook_metadata_filter": "-all"
  },
  "language_info": {
   "name": "python"
  }
 },
 "nbformat": 4,
 "nbformat_minor": 5
}
